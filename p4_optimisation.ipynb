{
 "cells": [
  {
   "cell_type": "markdown",
   "metadata": {},
   "source": [
    "# Optimisation"
   ]
  },
  {
   "cell_type": "markdown",
   "metadata": {},
   "source": [
    "Soit m $\\in \\mathbb{R^n}$ le malus appliqué pour chacune des n catégories.\n",
    "\n",
    "Soit p $\\in \\mathbb{R^n}$ le prix moyen des véhicules de chacune des n catégories.\n",
    "\n",
    "Soit $ \\beta $ le coefficient de prix \n",
    "\n",
    "Dans le modèle logit, la part de marché d'un modèle i de prix est donnée par:\n",
    "$ \\frac{e^{\\beta * p_{i}} }{ \\sum_{k=1}^{n} e^{\\beta * p_{k}}}$\n",
    "\n",
    "Après malus, la nouvelle part de marché du modèle i est donc : \n",
    "$ \\frac{e^{\\beta * (p_{i}+m_{i})} }{ \\sum_{k=1}^{n} e^{\\beta * (p_{k}+m_{k})}}$\n",
    "\n",
    "La fonction d'utilité choisie est : \n",
    "\n",
    "utilite(m)= $ \\sum_{k=1}^{n} \\frac{m_k}{p_k}$ * ( nouvelle part du marche du modele k) "
   ]
  },
  {
   "cell_type": "code",
   "execution_count": 2,
   "metadata": {},
   "outputs": [],
   "source": [
    "from scipy.optimize import minimize"
   ]
  },
  {
   "cell_type": "markdown",
   "metadata": {},
   "source": [
    "La fonction de contrainte du malus vise à ce que les émissions moyennes de CO2 soient en dessous d'un certain seuil et est donc donnée par :\n",
    "\n",
    "$\\sum_{k=1}^{n}$ parts du marché du véhicule k x CO2 réel emis par le modele k"
   ]
  },
  {
   "cell_type": "markdown",
   "metadata": {
    "tags": []
   },
   "source": [
    " ## 2. Test de la fonction avec un exemple"
   ]
  },
  {
   "cell_type": "code",
   "execution_count": 3,
   "metadata": {},
   "outputs": [
    {
     "data": {
      "text/plain": [
       "CO2bins\n",
       "[65, 70)      40195.255814\n",
       "[70, 75)      43757.571429\n",
       "[75, 80)      47358.975904\n",
       "[80, 85)      43688.634761\n",
       "[85, 90)      49430.262436\n",
       "                  ...     \n",
       "[365, 370)    32251.400000\n",
       "[375, 380)    81490.000000\n",
       "[380, 385)    26418.000000\n",
       "[390, 395)    57350.000000\n",
       "[415, 420)    28492.000000\n",
       "Name: prix, Length: 61, dtype: float64"
      ]
     },
     "execution_count": 3,
     "metadata": {},
     "output_type": "execute_result"
    }
   ],
   "source": [
    "p"
   ]
  },
  {
   "cell_type": "code",
   "execution_count": 4,
   "metadata": {},
   "outputs": [
    {
     "data": {
      "text/plain": [
       "CO2bins\n",
       "[65, 70)       66.860664\n",
       "[70, 75)       73.140486\n",
       "[75, 80)       77.256956\n",
       "[80, 85)       83.190575\n",
       "[85, 90)       87.531718\n",
       "                 ...    \n",
       "[365, 370)    368.271053\n",
       "[375, 380)    378.679310\n",
       "[380, 385)    382.902075\n",
       "[390, 395)    393.102239\n",
       "[415, 420)    416.911847\n",
       "Name: CO2reel, Length: 61, dtype: float64"
      ]
     },
     "execution_count": 4,
     "metadata": {},
     "output_type": "execute_result"
    }
   ],
   "source": [
    "CO2reel"
   ]
  },
  {
   "cell_type": "code",
   "execution_count": 12,
   "metadata": {},
   "outputs": [
    {
     "data": {
      "text/plain": [
       "array([0.01710646, 0.0153726 , 0.01379829, 0.01540442, 0.01296697,\n",
       "       0.01428728, 0.01498977, 0.0130281 , 0.01668362, 0.0138144 ,\n",
       "       0.01429528, 0.01589539, 0.01561379, 0.0155341 , 0.01424433,\n",
       "       0.01538857, 0.01510112, 0.01652732, 0.01615427, 0.01534722,\n",
       "       0.01556109, 0.01589099, 0.01694365, 0.01744278, 0.01775955,\n",
       "       0.01735428, 0.01507376, 0.01767564, 0.01613979, 0.01862397,\n",
       "       0.01684756, 0.01961845, 0.01998339, 0.01064605, 0.02115216,\n",
       "       0.01185657, 0.01814497, 0.01829802, 0.01085168, 0.01935498,\n",
       "       0.01135677, 0.0230848 , 0.00981737, 0.0296732 , 0.02101872,\n",
       "       0.0255036 , 0.01778266, 0.01192412, 0.01885001, 0.01958335,\n",
       "       0.01315088, 0.01031102, 0.02845164, 0.0162529 , 0.01449195,\n",
       "       0.00491971, 0.02170997, 0.00495607, 0.02586197, 0.01022477,\n",
       "       0.02430188])"
      ]
     },
     "execution_count": 12,
     "metadata": {},
     "output_type": "execute_result"
    }
   ],
   "source": [
    "pi = np.array([np.exp(beta*prix) for prix in p])/sum([np.exp(beta*prix) for prix in p])\n",
    "pi"
   ]
  },
  {
   "cell_type": "code",
   "execution_count": 13,
   "metadata": {
    "tags": []
   },
   "outputs": [],
   "source": [
    "# Fonction d'utilité\n",
    "def utility_function(m):\n",
    "    pexp = np.exp(beta*(p+m))\n",
    "    pit = pexp/np.sum(pexp)\n",
    "    return(-np.sum(m*pit/p))"
   ]
  },
  {
   "cell_type": "code",
   "execution_count": 14,
   "metadata": {},
   "outputs": [],
   "source": [
    "# Fonction de contrainte\n",
    "def constraint_function(m):\n",
    "    pexp = np.exp(beta*(p+m))\n",
    "    pit = pexp/np.sum(pexp)\n",
    "    return(np.sum(pit*CO2reel))"
   ]
  },
  {
   "cell_type": "code",
   "execution_count": 15,
   "metadata": {},
   "outputs": [
    {
     "data": {
      "text/plain": [
       "-0.0"
      ]
     },
     "execution_count": 15,
     "metadata": {},
     "output_type": "execute_result"
    }
   ],
   "source": [
    "utility_function(m_guess)"
   ]
  },
  {
   "cell_type": "code",
   "execution_count": 16,
   "metadata": {},
   "outputs": [
    {
     "data": {
      "text/plain": [
       "225.89980646106568"
      ]
     },
     "execution_count": 16,
     "metadata": {},
     "output_type": "execute_result"
    }
   ],
   "source": [
    "constraint_function(m_guess)"
   ]
  },
  {
   "cell_type": "code",
   "execution_count": 17,
   "metadata": {},
   "outputs": [],
   "source": [
    "# valeurs exemples de variables clés de l'optimisation\n",
    "beta = -0.00003 # valeur d'Etienne : -0.01414\n",
    "\n",
    "# vecteur prix par catégorie p\n",
    "\n",
    "# vecteur CO2estimé par catégorie CO2reel\n",
    "\n",
    "# le malus inital\n",
    "m_guess = np.zeros(61)\n",
    "\n",
    "#le seuil a pas depasser\n",
    "seuil = 200"
   ]
  },
  {
   "cell_type": "code",
   "execution_count": 18,
   "metadata": {},
   "outputs": [
    {
     "name": "stdout",
     "output_type": "stream",
     "text": [
      "[0.00000000e+00 0.00000000e+00 1.04080543e-16 9.89107187e-17\n",
      " 0.00000000e+00 0.00000000e+00 0.00000000e+00 0.00000000e+00\n",
      " 7.93615956e-17 9.88749649e-17 0.00000000e+00 0.00000000e+00\n",
      " 0.00000000e+00 2.23717253e-17 0.00000000e+00 1.52076968e+00\n",
      " 2.58866361e-17 3.46792377e-18 0.00000000e+00 4.10402108e+00\n",
      " 3.00736136e+00 4.41197367e+00 1.08451233e+00 1.63573630e+02\n",
      " 6.84685647e+01 4.28664760e+02 1.54584200e+02 6.93755890e+02\n",
      " 5.85411091e+02 1.18650747e+03 7.77744096e+02 1.20853173e+03\n",
      " 2.71433725e+03 2.97677492e+03 3.88488807e+03 3.96833062e+03\n",
      " 6.31593234e+03 7.57644542e+03 6.03921796e+03 9.37614981e+03\n",
      " 7.83892235e+03 1.49552660e+04 7.20756284e+03 2.23275276e+04\n",
      " 1.59424687e+04 2.13382171e+04 1.55822921e+04 1.18863425e+04\n",
      " 1.86381762e+04 2.19673510e+04 1.89027609e+04 1.47653589e+04\n",
      " 4.03023868e+04 2.43875226e+04 2.34003592e+04 8.64273766e+03\n",
      " 3.56291582e+04 1.02634273e+04 4.53335664e+04 2.13316189e+04\n",
      " 5.18921087e+04]\n",
      "-0.1716567889804955\n"
     ]
    }
   ],
   "source": [
    "bounds = [(0, None)] * 61\n",
    "constraint = {'type': 'ineq', 'fun': lambda m : seuil - constraint_function(m)}\n",
    "result = minimize(utility_function, m_guess, constraints=constraint, bounds=bounds)\n",
    "\n",
    "print(result.x) # valeur des malus obtenus pour atteindre l'optimum\n",
    "print(result.fun) #valeur de la fonction minimisée à l'optimum. "
   ]
  },
  {
   "cell_type": "code",
   "execution_count": 19,
   "metadata": {},
   "outputs": [
    {
     "data": {
      "image/png": "[encoded data removed]",
      "text/plain": [
       "<Figure size 640x480 with 1 Axes>"
      ]
     },
     "metadata": {},
     "output_type": "display_data"
    }
   ],
   "source": [
    "plt.bar(np.linspace(1,61,61), (p+result.x), color = 'red')\n",
    "plt.bar(np.linspace(1,61,61), p, color = 'blue')\n",
    "plt.show()"
   ]
  },
  {
   "cell_type": "markdown",
   "execution_count": null,
   "metadata": {},
   "outputs": [],
   "source": ["On obtient bien les malus à appliquer pour optimiser l'utilité des consommateurs sous contrainte de rester sous un certain seuil moyen d'émissions (avec le prix en ordonnée et les catégories de taxation, de 1 à 61 en abscisse)"]
  }
 ],
 "metadata": {
  "kernelspec": {
   "display_name": "Python 3 (ipykernel)",
   "language": "python",
   "name": "python3"
  },
  "language_info": {
   "codemirror_mode": {
    "name": "ipython",
    "version": 3
   },
   "file_extension": ".py",
   "mimetype": "text/x-python",
   "name": "python",
   "nbconvert_exporter": "python",
   "pygments_lexer": "ipython3",
   "version": "3.10.6"
  }
 },
 "nbformat": 4,
 "nbformat_minor": 4
}
