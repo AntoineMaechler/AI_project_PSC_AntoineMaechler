{
 "cells": [
  {
   "cell_type": "markdown",
   "id": "d0cacff2-e6c1-42b1-9c40-60235e614392",
   "metadata": {},
   "source": [
    "# Récuperer les données nécessaires à l'optimisation"
   ]
  },
  {
   "cell_type": "markdown",
   "id": "929bc06f-a63c-4a29-9c32-11f24661636e",
   "metadata": {},
   "source": [
    "On execute la préparation données et la partie ML"
   ]
  },
  {
   "cell_type": "code",
   "execution_count": 18,
   "id": "4065e7d4-0a4a-4709-8b4f-25dbb2c29e69",
   "metadata": {},
   "outputs": [],
   "source": [
    "# les données\n",
    "CO2reel = lasso_model.predict(datap)\n",
    "dataprix = data2['Prix du véhicule']\n",
    "dataprix = dataprix.iloc[list(datap.index)]\n",
    "data_opti = pd.DataFrame.from_dict({'prix':dataprix, 'CO2reel':CO2reel})\n",
    "data_opti.dropna(inplace=True)\n",
    "\n",
    "N = 70"
   ]
  },
  {
   "cell_type": "markdown",
   "id": "0ce4c850-5673-49e4-84e3-de9fba6b0ae4",
   "metadata": {},
   "source": [
    "Ce dont on a besoin :\n",
    "\n",
    " 1. Diviser les données en N catégories selon leur émissions de CO2\n",
    "\n",
    " 2. Récuperer dans une dataframe un vecteur de taille N \n",
    "     - une colonne 'prix' contenant les prix moyens de chaque catégorie\n",
    "     - une colonne 'CO2' contenant l'emission de CO2 au moyenne au sein de la catégorie"
   ]
  },
  {
   "cell_type": "code",
   "execution_count": 19,
   "id": "c047c614-557e-47f0-9df2-cd5e4cd18903",
   "metadata": {},
   "outputs": [],
   "source": [
    "\n",
    "# Determine the min and max values for 'Co2_prf'\n",
    "co2_min, co2_max = data_opti['CO2reel'].min(), data_opti['CO2reel'].max()\n",
    "\n",
    "# Create bins with a width of 10 units\n",
    "bin_width = int (( co2_max - co2_min)/ N ) \n",
    "bins = range(int(co2_min), int(co2_max) + bin_width, bin_width)\n"
   ]
  },
  {
   "cell_type": "code",
   "execution_count": 20,
   "id": "b6d374a8-446d-44e0-986c-98b53c2f9b30",
   "metadata": {},
   "outputs": [],
   "source": [
    "# Bin the 'Co2_prf' data\n",
    "data_opti['CO2bins'] = pd.cut(data_opti['CO2reel'], bins, right=False)\n",
    "\n",
    "# Group by the new 'Co2_prf_bins' column and count the number of vehicles in each bin\n",
    "price_by_bin = data_opti.groupby('CO2bins')['prix'].mean()\n",
    "\n",
    "# Get the mean CO2 from each bin\n",
    "meanCO2_by_bin = data_opti.groupby('CO2bins')['CO2reel'].mean()"
   ]
  },
  {
   "cell_type": "code",
   "execution_count": 21,
   "id": "5f23e78f-d076-4d76-a6ce-4921f4c7ed97",
   "metadata": {},
   "outputs": [
    {
     "data": {
      "text/html": [
       "<div>\n",
       "<style scoped>\n",
       "    .dataframe tbody tr th:only-of-type {\n",
       "        vertical-align: middle;\n",
       "    }\n",
       "\n",
       "    .dataframe tbody tr th {\n",
       "        vertical-align: top;\n",
       "    }\n",
       "\n",
       "    .dataframe thead th {\n",
       "        text-align: right;\n",
       "    }\n",
       "</style>\n",
       "<table border=\"1\" class=\"dataframe\">\n",
       "  <thead>\n",
       "    <tr style=\"text-align: right;\">\n",
       "      <th></th>\n",
       "      <th>prix</th>\n",
       "      <th>CO2reel</th>\n",
       "      <th>CO2bins</th>\n",
       "    </tr>\n",
       "  </thead>\n",
       "  <tbody>\n",
       "    <tr>\n",
       "      <th>0</th>\n",
       "      <td>34000.0</td>\n",
       "      <td>333.006825</td>\n",
       "      <td>[330, 335)</td>\n",
       "    </tr>\n",
       "    <tr>\n",
       "      <th>1</th>\n",
       "      <td>39700.0</td>\n",
       "      <td>164.457001</td>\n",
       "      <td>[160, 165)</td>\n",
       "    </tr>\n",
       "    <tr>\n",
       "      <th>3</th>\n",
       "      <td>34000.0</td>\n",
       "      <td>125.889710</td>\n",
       "      <td>[125, 130)</td>\n",
       "    </tr>\n",
       "    <tr>\n",
       "      <th>6</th>\n",
       "      <td>39300.0</td>\n",
       "      <td>98.195191</td>\n",
       "      <td>[95, 100)</td>\n",
       "    </tr>\n",
       "    <tr>\n",
       "      <th>7</th>\n",
       "      <td>34000.0</td>\n",
       "      <td>121.312736</td>\n",
       "      <td>[120, 125)</td>\n",
       "    </tr>\n",
       "    <tr>\n",
       "      <th>...</th>\n",
       "      <td>...</td>\n",
       "      <td>...</td>\n",
       "      <td>...</td>\n",
       "    </tr>\n",
       "    <tr>\n",
       "      <th>54157</th>\n",
       "      <td>24900.0</td>\n",
       "      <td>150.077620</td>\n",
       "      <td>[150, 155)</td>\n",
       "    </tr>\n",
       "    <tr>\n",
       "      <th>54158</th>\n",
       "      <td>22920.0</td>\n",
       "      <td>150.077620</td>\n",
       "      <td>[150, 155)</td>\n",
       "    </tr>\n",
       "    <tr>\n",
       "      <th>54202</th>\n",
       "      <td>32478.0</td>\n",
       "      <td>150.157768</td>\n",
       "      <td>[150, 155)</td>\n",
       "    </tr>\n",
       "    <tr>\n",
       "      <th>54203</th>\n",
       "      <td>32478.0</td>\n",
       "      <td>150.157768</td>\n",
       "      <td>[150, 155)</td>\n",
       "    </tr>\n",
       "    <tr>\n",
       "      <th>54204</th>\n",
       "      <td>43560.0</td>\n",
       "      <td>150.157768</td>\n",
       "      <td>[150, 155)</td>\n",
       "    </tr>\n",
       "  </tbody>\n",
       "</table>\n",
       "<p>39347 rows × 3 columns</p>\n",
       "</div>"
      ],
      "text/plain": [
       "          prix     CO2reel     CO2bins\n",
       "0      34000.0  333.006825  [330, 335)\n",
       "1      39700.0  164.457001  [160, 165)\n",
       "3      34000.0  125.889710  [125, 130)\n",
       "6      39300.0   98.195191   [95, 100)\n",
       "7      34000.0  121.312736  [120, 125)\n",
       "...        ...         ...         ...\n",
       "54157  24900.0  150.077620  [150, 155)\n",
       "54158  22920.0  150.077620  [150, 155)\n",
       "54202  32478.0  150.157768  [150, 155)\n",
       "54203  32478.0  150.157768  [150, 155)\n",
       "54204  43560.0  150.157768  [150, 155)\n",
       "\n",
       "[39347 rows x 3 columns]"
      ]
     },
     "execution_count": 21,
     "metadata": {},
     "output_type": "execute_result"
    }
   ],
   "source": [
    "data_opti"
   ]
  },
  {
   "cell_type": "code",
   "execution_count": 22,
   "id": "f5542c45-ec69-42f2-ab80-ecca515f5965",
   "metadata": {},
   "outputs": [
    {
     "data": {
      "text/plain": [
       "CO2bins\n",
       "[65, 70)      40195.255814\n",
       "[70, 75)      43443.684524\n",
       "[75, 80)      47369.054878\n",
       "[80, 85)      43726.389027\n",
       "[85, 90)      49612.720971\n",
       "                  ...     \n",
       "[395, 400)             NaN\n",
       "[400, 405)             NaN\n",
       "[405, 410)             NaN\n",
       "[410, 415)             NaN\n",
       "[415, 420)    28492.000000\n",
       "Name: prix, Length: 71, dtype: float64"
      ]
     },
     "execution_count": 22,
     "metadata": {},
     "output_type": "execute_result"
    }
   ],
   "source": [
    "price_by_bin"
   ]
  },
  {
   "cell_type": "code",
   "execution_count": 9,
   "id": "2850d8aa-b80c-49bd-960e-010cdaf82f59",
   "metadata": {},
   "outputs": [
    {
     "data": {
      "text/plain": [
       "0        [330, 335)\n",
       "1        [160, 165)\n",
       "3        [125, 130)\n",
       "6         [95, 100)\n",
       "7        [120, 125)\n",
       "            ...    \n",
       "54157    [150, 155)\n",
       "54158    [150, 155)\n",
       "54202    [150, 155)\n",
       "54203    [150, 155)\n",
       "54204    [150, 155)\n",
       "Name: CO2bins, Length: 39755, dtype: category\n",
       "Categories (71, interval[int64, left]): [[65, 70) < [70, 75) < [75, 80) < [80, 85) ... [400, 405) < [405, 410) < [410, 415) < [415, 420)]"
      ]
     },
     "execution_count": 9,
     "metadata": {},
     "output_type": "execute_result"
    }
   ],
   "source": [
    "data_opti['CO2bins']"
   ]
  },
  {
   "cell_type": "markdown",
   "id": "75723295-a60a-4120-bb81-4daffebfc6c2",
   "metadata": {},
   "source": [
    "## Les variables finales qu'on va utiliser dans notre fonction minimize : p et CO2reel"
   ]
  },
  {
   "cell_type": "markdown",
   "id": "f70e3642-ce27-4d5a-940f-1d64237d51cc",
   "metadata": {},
   "source": [
    "Le vecteur prix"
   ]
  },
  {
   "cell_type": "code",
   "execution_count": 28,
   "id": "b6c653bb-931d-4d33-b534-4930f516fc36",
   "metadata": {},
   "outputs": [],
   "source": [
    "p= data_opti.groupby('CO2bins')['prix'].mean()\n",
    "p.dropna(inplace=True)"
   ]
  },
  {
   "cell_type": "code",
   "execution_count": 29,
   "id": "d96255ef-1d06-4ac1-8205-94427760f014",
   "metadata": {},
   "outputs": [
    {
     "data": {
      "text/plain": [
       "CO2bins\n",
       "[65, 70)      40195.255814\n",
       "[70, 75)      43443.684524\n",
       "[75, 80)      47369.054878\n",
       "[80, 85)      43726.389027\n",
       "[85, 90)      49612.720971\n",
       "                  ...     \n",
       "[365, 370)    32251.400000\n",
       "[375, 380)    81490.000000\n",
       "[380, 385)    26418.000000\n",
       "[390, 395)    57350.000000\n",
       "[415, 420)    28492.000000\n",
       "Name: prix, Length: 61, dtype: float64"
      ]
     },
     "execution_count": 29,
     "metadata": {},
     "output_type": "execute_result"
    }
   ],
   "source": [
    "p"
   ]
  },
  {
   "cell_type": "markdown",
   "id": "6ae823f6-d933-45b8-9db1-a750ec9d236d",
   "metadata": {},
   "source": [
    "Le vecteur CO2reel"
   ]
  },
  {
   "cell_type": "code",
   "execution_count": 30,
   "id": "985b6541-c08c-425f-830b-1b48af49c199",
   "metadata": {},
   "outputs": [],
   "source": [
    "CO2reel = data_opti.groupby('CO2bins')['CO2reel'].mean()\n",
    "CO2reel.dropna(inplace=True)"
   ]
  },
  {
   "cell_type": "code",
   "execution_count": 31,
   "id": "b88ed8e0-88a4-437b-84f6-619b4d480076",
   "metadata": {},
   "outputs": [
    {
     "data": {
      "text/plain": [
       "CO2bins\n",
       "[65, 70)       66.925721\n",
       "[70, 75)       73.159991\n",
       "[75, 80)       77.357525\n",
       "[80, 85)       83.142718\n",
       "[85, 90)       87.484099\n",
       "                 ...    \n",
       "[365, 370)    368.559453\n",
       "[375, 380)    378.791268\n",
       "[380, 385)    383.031489\n",
       "[390, 395)    393.231420\n",
       "[415, 420)    417.048897\n",
       "Name: CO2reel, Length: 61, dtype: float64"
      ]
     },
     "execution_count": 31,
     "metadata": {},
     "output_type": "execute_result"
    }
   ],
   "source": [
    "CO2reel"
   ]
  },
  {
   "cell_type": "code",
   "execution_count": null,
   "id": "f589dc0e-8df0-4a82-a5b1-8fc9a4032b4b",
   "metadata": {},
   "outputs": [],
   "source": []
  }
 ],
 "metadata": {
  "kernelspec": {
   "display_name": "Python 3 (ipykernel)",
   "language": "python",
   "name": "python3"
  },
  "language_info": {
   "codemirror_mode": {
    "name": "ipython",
    "version": 3
   },
   "file_extension": ".py",
   "mimetype": "text/x-python",
   "name": "python",
   "nbconvert_exporter": "python",
   "pygments_lexer": "ipython3",
   "version": "3.10.6"
  }
 },
 "nbformat": 4,
 "nbformat_minor": 5
}
